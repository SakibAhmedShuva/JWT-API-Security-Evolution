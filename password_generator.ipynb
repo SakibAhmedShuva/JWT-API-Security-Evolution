{
 "cells": [
  {
   "cell_type": "code",
   "execution_count": 1,
   "metadata": {},
   "outputs": [
    {
     "name": "stdout",
     "output_type": "stream",
     "text": [
      "scrypt:32768:8:1$tgSkOh9bshDcvrIo$17cb2b28fc9cf65305f149d76a4cb3aa2ad5d29295fe2db2c662cfb9aa94f499a69377a6429785aa932b6fefde02401ab7a433d6c722d5f790bad348b9e7cde3\n"
     ]
    }
   ],
   "source": [
    "from werkzeug.security import generate_password_hash\n",
    "\n",
    "# Hash a password\n",
    "password = '12345678'\n",
    "hashed_password = generate_password_hash(password)\n",
    "print(hashed_password)  # Store this hashed password in your database\n"
   ]
  },
  {
   "cell_type": "code",
   "execution_count": null,
   "metadata": {},
   "outputs": [],
   "source": []
  }
 ],
 "metadata": {
  "kernelspec": {
   "display_name": "Python 3",
   "language": "python",
   "name": "python3"
  },
  "language_info": {
   "codemirror_mode": {
    "name": "ipython",
    "version": 3
   },
   "file_extension": ".py",
   "mimetype": "text/x-python",
   "name": "python",
   "nbconvert_exporter": "python",
   "pygments_lexer": "ipython3",
   "version": "3.12.7"
  }
 },
 "nbformat": 4,
 "nbformat_minor": 2
}
